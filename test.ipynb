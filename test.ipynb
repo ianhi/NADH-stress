{
 "cells": [
  {
   "cell_type": "code",
   "execution_count": 1,
   "id": "5cdb54f1-d7dd-425d-9a40-6c2032f976ab",
   "metadata": {
    "execution": {
     "iopub.execute_input": "2022-05-25T19:39:48.642030Z",
     "iopub.status.busy": "2022-05-25T19:39:48.641482Z",
     "iopub.status.idle": "2022-05-25T19:39:51.937010Z",
     "shell.execute_reply": "2022-05-25T19:39:51.936389Z",
     "shell.execute_reply.started": "2022-05-25T19:39:48.641924Z"
    },
    "tags": []
   },
   "outputs": [
    {
     "name": "stderr",
     "output_type": "stream",
     "text": [
      "2022-05-25 15:39:51.792 | DEBUG    | pymmcore_plus._util:find_micromanager:47 - using MM path found in applications: /usr/local/lib/micro-manager\n",
      "2022-05-25 15:39:51.793 | INFO     | pymmcore_plus.core._mmcore_plus:setDeviceAdapterSearchPaths:152 - setting adapter search paths: ['/usr/local/lib/micro-manager']\n",
      "2022-05-25 15:39:51.856 | DEBUG    | pymmcore_plus._util:find_micromanager:47 - using MM path found in applications: /usr/local/lib/micro-manager\n"
     ]
    }
   ],
   "source": [
    "%matplotlib ipympl\n",
    "from pathlib import Path\n",
    "\n",
    "import matplotlib.pyplot as plt\n",
    "import napari\n",
    "import numpy as np\n",
    "import tifffile\n",
    "from aicsimageio.readers import TiffGlobReader\n",
    "from ipywidgets import Output\n",
    "from mda_simulator import ImageGenerator\n",
    "from mpl_interactions import hyperslicer\n",
    "from napari_broadcastable_points import BroadcastablePoints\n",
    "from pymmcore_mda_engines import DevEngine\n",
    "from pymmcore_plus import CMMCorePlus\n",
    "from raman_mda_engine import RamanEngine, RamanTiffAndNumpyWriter, fakeAcquirer\n",
    "from useq import MDASequence\n",
    "\n",
    "from generate_events import fakeSequence, update_event_exp\n",
    "\n",
    "v = napari.Viewer()\n",
    "dw, main_window = v.window.add_plugin_dock_widget(\"napari-micromanager\")\n",
    "\n",
    "core = CMMCorePlus.instance()\n",
    "core.loadSystemConfiguration()\n",
    "engine = DevEngine()\n",
    "core.register_mda_engine(engine)\n",
    "# core.run_mda(init_sequence)\n",
    "\n",
    "init_sequence = MDASequence(\n",
    "    channels=[\"Cy5\", {\"config\": \"DAPI\", \"exposure\": 1}, {\"config\": \"FITC\", \"exposure\": 10}],\n",
    "    time_plan={\"interval\": 30, \"loops\": 1},\n",
    "    z_plan={\"range\": 50, \"step\": 5},\n",
    "    axis_order=\"tpcz\",\n",
    "    stage_positions=[(0, 1, 1), (512, 128, 0)],\n",
    ")"
   ]
  },
  {
   "cell_type": "code",
   "execution_count": 2,
   "id": "ecc20bd1-facb-4da3-b069-fd4673d707d0",
   "metadata": {
    "execution": {
     "iopub.execute_input": "2022-05-25T19:39:51.938978Z",
     "iopub.status.busy": "2022-05-25T19:39:51.938728Z",
     "iopub.status.idle": "2022-05-25T19:39:51.951444Z",
     "shell.execute_reply": "2022-05-25T19:39:51.950197Z",
     "shell.execute_reply.started": "2022-05-25T19:39:51.938956Z"
    },
    "tags": []
   },
   "outputs": [],
   "source": [
    "expByPosition = {\"FITC\": {0: 0.1, 1: 1, 2: 10}}\n",
    "events = update_event_exp(init_sequence, expByPosition)\n",
    "seq = fakeSequence(events, init_sequence)\n",
    "\n"
   ]
  },
  {
   "cell_type": "code",
   "execution_count": 3,
   "id": "a665c743-65b8-4e2f-8d5f-6ae49ec9843b",
   "metadata": {
    "execution": {
     "iopub.execute_input": "2022-05-25T19:39:51.953835Z",
     "iopub.status.busy": "2022-05-25T19:39:51.952676Z",
     "iopub.status.idle": "2022-05-25T19:39:51.981077Z",
     "shell.execute_reply": "2022-05-25T19:39:51.979134Z",
     "shell.execute_reply.started": "2022-05-25T19:39:51.953795Z"
    },
    "tags": []
   },
   "outputs": [
    {
     "name": "stderr",
     "output_type": "stream",
     "text": [
      "2022-05-25 15:39:51.974 | INFO     | pymmcore_plus.mda._engine:_prepare_to_run:122 - MDA Started: <generate_events.fakeSequence object at 0x7f2ce4175cc0>\n",
      "2022-05-25 15:39:51.975 | INFO     | pymmcore_mda_engines._engines:run:81 - metadata={} index={'t': 0, 'p': 0, 'c': 0, 'z': 0} channel=Channel(config='Cy5') exposure=None min_start_time=0.0 x_pos=0.0 y_pos=1.0 z_pos=-24.0 properties=None\n"
     ]
    },
    {
     "data": {
      "text/plain": [
       "<Thread(Thread-5 (run), started 139827139827264)>"
      ]
     },
     "execution_count": 3,
     "metadata": {},
     "output_type": "execute_result"
    }
   ],
   "source": [
    "core.run_mda(seq)"
   ]
  },
  {
   "cell_type": "code",
   "execution_count": null,
   "id": "2908d9c3-7dc0-4587-adc6-d408f093f035",
   "metadata": {},
   "outputs": [],
   "source": []
  }
 ],
 "metadata": {
  "kernelspec": {
   "display_name": "Python 3",
   "language": "python",
   "name": "python3"
  },
  "language_info": {
   "codemirror_mode": {
    "name": "ipython",
    "version": 3
   },
   "file_extension": ".py",
   "mimetype": "text/x-python",
   "name": "python",
   "nbconvert_exporter": "python",
   "pygments_lexer": "ipython3",
   "version": "3.8.6"
  },
  "widgets": {
   "application/vnd.jupyter.widget-state+json": {
    "state": {},
    "version_major": 2,
    "version_minor": 0
   }
  }
 },
 "nbformat": 4,
 "nbformat_minor": 5
}
